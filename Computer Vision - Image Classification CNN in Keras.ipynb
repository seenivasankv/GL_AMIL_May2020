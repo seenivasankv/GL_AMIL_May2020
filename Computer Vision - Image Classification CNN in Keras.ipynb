{
 "cells": [
  {
   "cell_type": "markdown",
   "metadata": {
    "_cell_guid": "e83a8430-f7d6-49e6-b55a-f605805c6fde",
    "_uuid": "56d3ea1a8bb1ee742ea817ee82b64d744a84cb57"
   },
   "source": [
    "# Plant seedling recognition\n",
    "\n",
    "1) Pre-processing of image data.\n",
    "2) Visualization of images.\n",
    "3) Building CNN.\n",
    "4) Evaluate the Model.\n",
    "5) The motive of the project is to make the learners capable to handle images/image classification problems, during this process you should also be capable to handle real image files, not just limited to a numpy array of image pixels.\n"
   ]
  },
  {
   "cell_type": "code",
   "execution_count": null,
   "metadata": {},
   "outputs": [],
   "source": []
  },
  {
   "cell_type": "markdown",
   "metadata": {
    "_cell_guid": "ba57c7b2-6a8f-46c3-b88a-39c8badb6e61",
    "_uuid": "07e1cb3d84872e645e865fe1d38dcbe5bec6bca4",
    "colab_type": "text",
    "id": "h3QHZ_qeYzSP"
   },
   "source": [
    "<a id='section1'></a>\n",
    "## 1. Get data\n"
   ]
  },
  {
   "cell_type": "code",
   "execution_count": null,
   "metadata": {
    "_cell_guid": "cf48a187-a9b9-4767-9995-530f4042f2ef",
    "_uuid": "3d8330361f41b90be1556a5333ae562fe3103ee9",
    "colab": {
     "autoexec": {
      "startup": false,
      "wait_interval": 0
     },
     "base_uri": "https://localhost:8080/",
     "height": 799,
     "output_extras": [
      {
       "item_id": 1
      },
      {
       "item_id": 46
      }
     ]
    },
    "colab_type": "code",
    "id": "dkuI17C4YzSP",
    "outputId": "7e0bf30d-e796-4743-dacd-d6100bb4b932"
   },
   "outputs": [],
   "source": [
    "import cv2\n",
    "from glob import glob\n",
    "import numpy as np\n",
    "from matplotlib import pyplot as plt\n",
    "import math\n",
    "import pandas as pd\n",
    "\n",
    "ScaleTo = 70  # px to scale\n",
    "seed = 7  # fixing random\n",
    "\n",
    "path = '../input/plant-seedlings-classification/train/*/*.png' \n",
    "files = glob(path)\n",
    "\n",
    "trainImg = []\n",
    "trainLabel = []\n",
    "j = 1\n",
    "num = len(files)\n",
    "\n",
    "# Obtain images and resizing, obtain labels\n",
    "for img in files:\n",
    "    print(str(j) + \"/\" + str(num), end=\"\\r\")\n",
    "    trainImg.append(cv2.resize(cv2.imread(img), (ScaleTo, ScaleTo)))  # Get image (with resizing)\n",
    "    trainLabel.append(img.split('/')[-2])  # Get image label (folder name)\n",
    "    j += 1\n",
    "\n",
    "trainImg = np.asarray(trainImg)  # Train images set\n",
    "trainLabel = pd.DataFrame(trainLabel)  # Train labels set"
   ]
  },
  {
   "cell_type": "markdown",
   "metadata": {
    "_cell_guid": "da1b2625-138a-4ca7-97fc-7ac74d883b4d",
    "_uuid": "e5a77340c42fa54e4ab7bc2174d6fccae8777a9d"
   },
   "source": [
    "Let's look at some examples of plant photos"
   ]
  },
  {
   "cell_type": "code",
   "execution_count": null,
   "metadata": {
    "_cell_guid": "ac427863-563e-47c1-9741-462e4da7a774",
    "_uuid": "41f4551cf7c83b58d1606c80e9fe1fc787eb7757"
   },
   "outputs": [],
   "source": [
    "# Show some example images\n",
    "for i in range(8):\n",
    "    plt.subplot(2, 4, i + 1)\n",
    "    plt.imshow(trainImg[i])"
   ]
  },
  {
   "cell_type": "markdown",
   "metadata": {
    "_cell_guid": "3fc90485-e2b4-456c-9958-ed1253db5a79",
    "_uuid": "0d7d83e4b71d5e4ef8a0b565afb369f4fa772120",
    "colab_type": "text",
    "id": "gnLUeAThYzSU"
   },
   "source": []
  },
  {
   "cell_type": "code",
   "execution_count": null,
   "metadata": {
    "_cell_guid": "8e21f534-f0f7-4bb6-85c3-9a9c8be3cd5e",
    "_uuid": "c861144e23c2102f47885c83e4b4fde7a99cd043",
    "colab": {
     "autoexec": {
      "startup": false,
      "wait_interval": 0
     },
     "base_uri": "https://localhost:8080/",
     "height": 345,
     "output_extras": [
      {
       "item_id": 1
      }
     ]
    },
    "colab_type": "code",
    "executionInfo": {
     "elapsed": 5900,
     "status": "ok",
     "timestamp": 1517995337230,
     "user": {
      "displayName": "Никита Константиновский",
      "photoUrl": "https://lh3.googleusercontent.com/a/default-user=s128",
      "userId": "118348132992166048978"
     },
     "user_tz": -180
    },
    "id": "UlXr1HtLYzSV",
    "outputId": "7a79a1d0-bf3c-4f61-cd17-48b53412d78c"
   },
   "outputs": [],
   "source": [
    "clearTrainImg = []\n",
    "examples = []; getEx = True\n",
    "for img in trainImg:\n",
    "    # Use gaussian blur\n",
    "    blurImg = cv2.GaussianBlur(img, (5, 5), 0)   \n",
    "    \n",
    "    # Convert to HSV image\n",
    "    hsvImg = cv2.cvtColor(blurImg, cv2.COLOR_BGR2HSV)  \n",
    "    \n",
    "    # Create mask (parameters - green color range)\n",
    "    lower_green = (25, 40, 50)\n",
    "    upper_green = (75, 255, 255)\n",
    "    mask = cv2.inRange(hsvImg, lower_green, upper_green)  \n",
    "    kernel = cv2.getStructuringElement(cv2.MORPH_ELLIPSE, (11, 11))\n",
    "    mask = cv2.morphologyEx(mask, cv2.MORPH_CLOSE, kernel)\n",
    "    \n",
    "    # Create bool mask\n",
    "    bMask = mask > 0  \n",
    "    \n",
    "    # Apply the mask\n",
    "    clear = np.zeros_like(img, np.uint8)  # Create empty image\n",
    "    clear[bMask] = img[bMask]  # Apply boolean mask to the origin image\n",
    "    \n",
    "    clearTrainImg.append(clear)  # Append image without backgroung\n",
    "    \n",
    "    # Show examples\n",
    "    if getEx:\n",
    "        plt.subplot(2, 3, 1); plt.imshow(img)  # Show the original image\n",
    "        plt.subplot(2, 3, 2); plt.imshow(blurImg)  # Blur image\n",
    "        plt.subplot(2, 3, 3); plt.imshow(hsvImg)  # HSV image\n",
    "        plt.subplot(2, 3, 4); plt.imshow(mask)  # Mask\n",
    "        plt.subplot(2, 3, 5); plt.imshow(bMask)  # Boolean mask\n",
    "        plt.subplot(2, 3, 6); plt.imshow(clear)  # Image without background\n",
    "        getEx = False\n",
    "\n",
    "clearTrainImg = np.asarray(clearTrainImg)"
   ]
  },
  {
   "cell_type": "code",
   "execution_count": null,
   "metadata": {
    "_cell_guid": "a3e52696-bac1-40ff-b8d7-edf8a0bf40ce",
    "_uuid": "18ab5c64f074fb5ee8ce4dceeea467fae116ba0d",
    "colab": {
     "autoexec": {
      "startup": false,
      "wait_interval": 0
     },
     "base_uri": "https://localhost:8080/",
     "height": 350,
     "output_extras": [
      {
       "item_id": 1
      }
     ]
    },
    "colab_type": "code",
    "executionInfo": {
     "elapsed": 1703,
     "status": "ok",
     "timestamp": 1517995342379,
     "user": {
      "displayName": "Никита Константиновский",
      "photoUrl": "https://lh3.googleusercontent.com/a/default-user=s128",
      "userId": "118348132992166048978"
     },
     "user_tz": -180
    },
    "id": "W5gQorjqYzSe",
    "outputId": "67b03f4b-c00a-4ca1-dfe3-07a853b16f99"
   },
   "outputs": [],
   "source": [
    "# Show sample result\n",
    "for i in range(8):\n",
    "    plt.subplot(2, 4, i + 1)\n",
    "    plt.imshow(clearTrainImg[i])"
   ]
  },
  {
   "cell_type": "markdown",
   "metadata": {
    "_cell_guid": "7cc27f81-9c2c-459c-8b35-ef5b9be2d181",
    "_uuid": "6489aa4c23ae6c6e07c07e7555d09242cf7413db",
    "colab_type": "text",
    "id": "qyoKl0p_YzSi"
   },
   "source": [
    "### 2.2. Normalize input\n",
    "\n"
   ]
  },
  {
   "cell_type": "code",
   "execution_count": null,
   "metadata": {
    "_cell_guid": "b8010cb8-e9c8-4f88-a660-071c8b91b8ba",
    "_uuid": "e831049e1526c3732ce81a4a8b9521e48ad2ac2b",
    "colab": {
     "autoexec": {
      "startup": false,
      "wait_interval": 0
     }
    },
    "colab_type": "code",
    "id": "9P7UIelKYzSi"
   },
   "outputs": [],
   "source": [
    "clearTrainImg = clearTrainImg / 255"
   ]
  },
  {
   "cell_type": "code",
   "execution_count": null,
   "metadata": {
    "_cell_guid": "1e17fd46-a7b4-4470-b28b-215a39a206e0",
    "_uuid": "61f289328cdf2ffd1bd1c66f91e3b8e8514d069d",
    "colab": {
     "autoexec": {
      "startup": false,
      "wait_interval": 0
     },
     "base_uri": "https://localhost:8080/",
     "height": 535,
     "output_extras": [
      {
       "item_id": 1
      },
      {
       "item_id": 2
      },
      {
       "item_id": 3
      }
     ]
    },
    "colab_type": "code",
    "executionInfo": {
     "elapsed": 1199,
     "status": "ok",
     "timestamp": 1517995349525,
     "user": {
      "displayName": "Никита Константиновский",
      "photoUrl": "https://lh3.googleusercontent.com/a/default-user=s128",
      "userId": "118348132992166048978"
     },
     "user_tz": -180
    },
    "id": "jHz3WJhrYzSm",
    "outputId": "f5f5d244-fa92-4571-d4d4-0c8e202329d6"
   },
   "outputs": [],
   "source": [
    "from keras.utils import np_utils\n",
    "from sklearn import preprocessing\n",
    "import matplotlib.pyplot as plt\n",
    "\n",
    "# Encode labels and create classes\n",
    "le = preprocessing.LabelEncoder()\n",
    "le.fit(trainLabel[0])\n",
    "print(\"Classes: \" + str(le.classes_))\n",
    "encodeTrainLabels = le.transform(trainLabel[0])\n",
    "\n",
    "# Make labels categorical\n",
    "clearTrainLabel = np_utils.to_categorical(encodeTrainLabels)\n",
    "num_clases = clearTrainLabel.shape[1]\n",
    "print(\"Number of classes: \" + str(num_clases))\n",
    "\n",
    "# Plot of label types numbers\n",
    "trainLabel[0].value_counts().plot(kind='bar')"
   ]
  },
  {
   "cell_type": "markdown",
   "metadata": {
    "_cell_guid": "f01b8fd7-cd51-4754-bb74-6101c0920208",
    "_uuid": "49e51b6b50ea58102bfa26effb2f733638b9b3e4"
   },
   "source": []
  },
  {
   "cell_type": "markdown",
   "metadata": {
    "_cell_guid": "df1f4d6c-726b-4c3e-8f8c-d344f942ff9d",
    "_uuid": "01a4d08cb1fede2162d58589bd4d2ce181bea275",
    "colab_type": "text",
    "id": "PBsNYbfNYzSq"
   },
   "source": [
    "<a id='section3'></a>\n",
    "## 3. Model\n",
    "\n",
    "### 3.1. Split dataset\n",
    "Split data on training and validation set. 10% of data became the validation set\n",
    "\n",
    "Our data is unbalanced, so for avoide inaccurate evaluation of model set stratify=clearTrainLabel"
   ]
  },
  {
   "cell_type": "code",
   "execution_count": null,
   "metadata": {
    "_cell_guid": "6b14bc73-6e8d-4ae9-98fb-37b692b75103",
    "_uuid": "a92bd39afd9769d7ea9e793ee85a505f3c19fdd5",
    "colab": {
     "autoexec": {
      "startup": false,
      "wait_interval": 0
     }
    },
    "colab_type": "code",
    "id": "EJy83dSEYzSr"
   },
   "outputs": [],
   "source": [
    "from sklearn.model_selection import train_test_split\n",
    "\n",
    "trainX, testX, trainY, testY = train_test_split(clearTrainImg, clearTrainLabel, \n",
    "                                                test_size=0.1, random_state=seed, \n",
    "                                                stratify = clearTrainLabel)"
   ]
  },
  {
   "cell_type": "markdown",
   "metadata": {
    "_cell_guid": "09d0ad71-0bb2-4b6b-b015-8be9600ddabd",
    "_uuid": "8bb49cf39cc87436d34d6d831d55c53ac10d682e",
    "colab_type": "text",
    "id": "nvjJmQ9nYzSu"
   },
   "source": [
    "### 3.2. Data generator\n"
   ]
  },
  {
   "cell_type": "code",
   "execution_count": null,
   "metadata": {
    "_cell_guid": "6ed3e088-f882-4536-b889-1007979830c9",
    "_uuid": "53d859526c2edc7b0063f07592b0c45b05cf1695",
    "colab": {
     "autoexec": {
      "startup": false,
      "wait_interval": 0
     }
    },
    "colab_type": "code",
    "id": "ftwKbrJ5YzSv"
   },
   "outputs": [],
   "source": [
    "from keras.preprocessing.image import ImageDataGenerator\n",
    "datagen = ImageDataGenerator(\n",
    "        rotation_range=180,  # randomly rotate images in the range\n",
    "        zoom_range = 0.1, # Randomly zoom image \n",
    "        width_shift_range=0.1,  # randomly shift images horizontally\n",
    "        height_shift_range=0.1,  # randomly shift images vertically \n",
    "        horizontal_flip=True,  # randomly flip images horizontally\n",
    "        vertical_flip=True  # randomly flip images vertically\n",
    "    )  \n",
    "datagen.fit(trainX)"
   ]
  },
  {
   "cell_type": "markdown",
   "metadata": {
    "_cell_guid": "bc368c34-d8a7-4578-b1a9-561534fe4a04",
    "_uuid": "9e98b9806e9d0ec27afaa768eb40406ec7acdd8f",
    "colab_type": "text",
    "id": "qq1DW3AQYzS0"
   },
   "source": [
    "### 3.3. Create model\n",
    "\n",
    "For creation model i used Keras Sequential.\n",
    "\n"
   ]
  },
  {
   "cell_type": "code",
   "execution_count": null,
   "metadata": {
    "_cell_guid": "d3fdb265-6af1-420f-a5af-6d507d7814d9",
    "_uuid": "f078274c7eeb7935aaed1fad4d45b9f1a93a0a64",
    "colab": {
     "autoexec": {
      "startup": false,
      "wait_interval": 0
     },
     "base_uri": "https://localhost:8080/",
     "height": 782,
     "output_extras": [
      {
       "item_id": 1
      }
     ]
    },
    "colab_type": "code",
    "executionInfo": {
     "elapsed": 1279,
     "status": "ok",
     "timestamp": 1517995360543,
     "user": {
      "displayName": "Никита Константиновский",
      "photoUrl": "https://lh3.googleusercontent.com/a/default-user=s128",
      "userId": "118348132992166048978"
     },
     "user_tz": -180
    },
    "id": "iIM5G4UrYzS3",
    "outputId": "69acde5e-2805-4368-dc45-0f4155eebee2"
   },
   "outputs": [],
   "source": [
    "import numpy\n",
    "from keras.models import Sequential\n",
    "from keras.layers import Dense\n",
    "from keras.layers import Dropout\n",
    "from keras.layers import Flatten\n",
    "from keras.layers.convolutional import Conv2D\n",
    "from keras.layers.convolutional import MaxPooling2D\n",
    "from keras.layers import BatchNormalization\n",
    "\n",
    "numpy.random.seed(seed)  # Fix seed\n",
    "\n",
    "model = Sequential()\n",
    "\n",
    "model.add(Conv2D(filters=64, kernel_size=(5, 5), input_shape=(ScaleTo, ScaleTo, 3), activation='relu'))\n",
    "model.add(BatchNormalization(axis=3))\n",
    "model.add(Conv2D(filters=64, kernel_size=(5, 5), activation='relu'))\n",
    "model.add(MaxPooling2D((2, 2)))\n",
    "model.add(BatchNormalization(axis=3))\n",
    "model.add(Dropout(0.1))\n",
    "\n",
    "model.add(Conv2D(filters=128, kernel_size=(5, 5), activation='relu'))\n",
    "model.add(BatchNormalization(axis=3))\n",
    "model.add(Conv2D(filters=128, kernel_size=(5, 5), activation='relu'))\n",
    "model.add(MaxPooling2D((2, 2)))\n",
    "model.add(BatchNormalization(axis=3))\n",
    "model.add(Dropout(0.1))\n",
    "\n",
    "model.add(Conv2D(filters=256, kernel_size=(5, 5), activation='relu'))\n",
    "model.add(BatchNormalization(axis=3))\n",
    "model.add(Conv2D(filters=256, kernel_size=(5, 5), activation='relu'))\n",
    "model.add(MaxPooling2D((2, 2)))\n",
    "model.add(BatchNormalization(axis=3))\n",
    "model.add(Dropout(0.1))\n",
    "\n",
    "model.add(Flatten())\n",
    "\n",
    "model.add(Dense(256, activation='relu'))\n",
    "model.add(BatchNormalization())\n",
    "model.add(Dropout(0.5))\n",
    "\n",
    "model.add(Dense(256, activation='relu'))\n",
    "model.add(BatchNormalization())\n",
    "model.add(Dropout(0.5))\n",
    "\n",
    "model.add(Dense(num_clases, activation='softmax'))\n",
    "\n",
    "model.summary()\n",
    "\n",
    "# compile model\n",
    "model.compile(loss='categorical_crossentropy', optimizer='adam', metrics=['accuracy'])"
   ]
  },
  {
   "cell_type": "markdown",
   "metadata": {
    "_cell_guid": "f7936cad-c644-4cb5-8e15-045ec161fe61",
    "_uuid": "1afe9e3f61fa7dc5f354bd16c73c73e0c6d6875e",
    "colab_type": "text",
    "id": "PXjrtevDYzS8"
   },
   "source": [
    "### 3.4. Fit model\n"
   ]
  },
  {
   "cell_type": "code",
   "execution_count": null,
   "metadata": {
    "_cell_guid": "0d46cea4-c01c-42f6-a615-500ccaa6abbb",
    "_kg_hide-input": false,
    "_uuid": "eb1fffe45e463ed1e8951a7293f2fea14c08811a",
    "colab": {
     "autoexec": {
      "startup": false,
      "wait_interval": 0
     },
     "base_uri": "https://localhost:8080/",
     "height": 3125,
     "output_extras": [
      {
       "item_id": 1
      },
      {
       "item_id": 2
      }
     ]
    },
    "colab_type": "code",
    "executionInfo": {
     "elapsed": 11199,
     "status": "error",
     "timestamp": 1517994941027,
     "user": {
      "displayName": "Никита Константиновский",
      "photoUrl": "https://lh3.googleusercontent.com/a/default-user=s128",
      "userId": "118348132992166048978"
     },
     "user_tz": -180
    },
    "id": "cy4S_8g7YzS9",
    "outputId": "151aaa64-9ea3-4ec8-cb60-69cdf54511e4"
   },
   "outputs": [],
   "source": [
    "from keras.callbacks import ModelCheckpoint, ReduceLROnPlateau, CSVLogger\n",
    "\n",
    "# learning rate reduction\n",
    "learning_rate_reduction = ReduceLROnPlateau(monitor='val_acc', \n",
    "                                            patience=3, \n",
    "                                            verbose=1, \n",
    "                                            factor=0.4, \n",
    "                                            min_lr=0.00001)\n",
    "\n",
    "# checkpoints\n",
    "filepath=\"drive/DataScience/PlantReco/weights.best_{epoch:02d}-{val_acc:.2f}.hdf5\"\n",
    "checkpoint = ModelCheckpoint(filepath, monitor='val_acc', \n",
    "                             verbose=1, save_best_only=True, mode='max')\n",
    "filepath=\"drive/DataScience/PlantReco/weights.last_auto4.hdf5\"\n",
    "checkpoint_all = ModelCheckpoint(filepath, monitor='val_acc', \n",
    "                                 verbose=1, save_best_only=False, mode='max')\n",
    "\n",
    "# all callbacks\n",
    "callbacks_list = [checkpoint, learning_rate_reduction, checkpoint_all]\n",
    "\n",
    "# fit model\n",
    "# hist = model.fit_generator(datagen.flow(trainX, trainY, batch_size=75), \n",
    "#                            epochs=35, validation_data=(testX, testY), \n",
    "#                            steps_per_epoch=trainX.shape[0], callbacks=callbacks_list)"
   ]
  },
  {
   "cell_type": "markdown",
   "metadata": {
    "_cell_guid": "d10e22b5-a811-4cbf-97b8-f85968614605",
    "_uuid": "62cc51ad9ca7f7fc43b77b62dfe1238b9f100e6e"
   },
   "source": [
    "<a id='section4'></a>\n",
    "## 4. Evaluate model\n",
    "### 4.1. Load model from file\n",
    "\n"
   ]
  },
  {
   "cell_type": "code",
   "execution_count": null,
   "metadata": {
    "_cell_guid": "fafb1f53-33a1-4c61-be15-61d0091a5a18",
    "_uuid": "d642cde459cddcbc8c57a21289fab8f423a34f5b",
    "colab": {
     "autoexec": {
      "startup": false,
      "wait_interval": 0
     },
     "base_uri": "https://localhost:8080/",
     "height": 2751,
     "output_extras": [
      {
       "item_id": 1
      }
     ]
    },
    "colab_type": "code",
    "executionInfo": {
     "elapsed": 24784,
     "status": "error",
     "timestamp": 1517995421257,
     "user": {
      "displayName": "Никита Константиновский",
      "photoUrl": "https://lh3.googleusercontent.com/a/default-user=s128",
      "userId": "118348132992166048978"
     },
     "user_tz": -180
    },
    "id": "TKkO1FHuYzTK",
    "outputId": "b03d6105-928e-47a2-9926-5b661c179d94"
   },
   "outputs": [],
   "source": [
    "model.load_weights(\"../input/plantrecomodels/weights.best_17-0.96.hdf5\")\n",
    "\n",
    "data = np.load(\"../input/plantrecomodels/Data.npz\")\n",
    "d = dict(zip((\"trainX\",\"testX\",\"trainY\", \"testY\"), (data[k] for k in data)))\n",
    "trainX = d['trainX']\n",
    "testX = d['testX']\n",
    "trainY = d['trainY']\n",
    "testY = d['testY']\n",
    "\n",
    "print(model.evaluate(trainX, trainY))  # Evaluate on train set\n",
    "print(model.evaluate(testX, testY))  # Evaluate on test set"
   ]
  },
  {
   "cell_type": "markdown",
   "metadata": {
    "_uuid": "8c99fb9cc81bf27437b9734daad19150c2390ab7"
   },
   "source": [
    "### 4.2. Confusion matrix\n",
    "\n",
    "A good way to look at model errors."
   ]
  },
  {
   "cell_type": "code",
   "execution_count": null,
   "metadata": {
    "_uuid": "af292cea90fb8cd98e6d6b0eff8cc6b8eeeacaba"
   },
   "outputs": [],
   "source": [
    "from sklearn.metrics import confusion_matrix\n",
    "import itertools\n",
    "\n",
    "def plot_confusion_matrix(cm, classes,\n",
    "                          normalize=False,\n",
    "                          title='Confusion matrix',\n",
    "                          cmap=plt.cm.Blues):\n",
    "    \n",
    "    fig = plt.figure(figsize=(10,10))\n",
    "    plt.imshow(cm, interpolation='nearest', cmap=cmap)\n",
    "    plt.title(title)\n",
    "    plt.colorbar()\n",
    "    tick_marks = np.arange(len(classes))\n",
    "    plt.xticks(tick_marks, classes, rotation=90)\n",
    "    plt.yticks(tick_marks, classes)\n",
    "\n",
    "    if normalize:\n",
    "        cm = cm.astype('float') / cm.sum(axis=1)[:, np.newaxis]\n",
    "\n",
    "    thresh = cm.max() / 2.\n",
    "    for i, j in itertools.product(range(cm.shape[0]), range(cm.shape[1])):\n",
    "        plt.text(j, i, cm[i, j],\n",
    "                 horizontalalignment=\"center\",\n",
    "                 color=\"white\" if cm[i, j] > thresh else \"black\")\n",
    "\n",
    "    plt.tight_layout()\n",
    "    plt.ylabel('True label')\n",
    "    plt.xlabel('Predicted label')\n",
    "\n",
    "# Predict the values from the validation dataset\n",
    "predY = model.predict(testX)\n",
    "predYClasses = np.argmax(predY, axis = 1) \n",
    "trueY = np.argmax(testY, axis = 1) \n",
    "\n",
    "# confusion matrix\n",
    "confusionMTX = confusion_matrix(trueY, predYClasses) \n",
    "\n",
    "# plot the confusion matrix\n",
    "plot_confusion_matrix(confusionMTX, classes = le.classes_) "
   ]
  },
  {
   "cell_type": "markdown",
   "metadata": {
    "_cell_guid": "0826f50f-db77-4063-884e-84b1105af8cb",
    "_uuid": "39f7431849e766e2ad26b293f510f52f5196269b",
    "colab_type": "text",
    "id": "MylCVy4_YzTD"
   },
   "source": [
    "### 4.3. Get results\n",
    "\n",
    "And finnaly we get the result of prediction on test data."
   ]
  },
  {
   "cell_type": "code",
   "execution_count": null,
   "metadata": {
    "_cell_guid": "86687bf4-6e50-463e-a80c-54a67cae4211",
    "_uuid": "fbcc8ed936331ad2ed68e61169dc17f0f8400392",
    "colab": {
     "autoexec": {
      "startup": false,
      "wait_interval": 0
     }
    },
    "colab_type": "code",
    "id": "Xfg3GA69YzTE"
   },
   "outputs": [],
   "source": [
    "path = '../input/plant-seedlings-classification/test/*.png'\n",
    "files = glob(path)\n",
    "\n",
    "testImg = []\n",
    "testId = []\n",
    "j = 1\n",
    "num = len(files)\n",
    "\n",
    "# Obtain images and resizing, obtain labels\n",
    "for img in files:\n",
    "    print(\"Obtain images: \" + str(j) + \"/\" + str(num), end='\\r')\n",
    "    testId.append(img.split('/')[-1])  # Images id's\n",
    "    testImg.append(cv2.resize(cv2.imread(img), (ScaleTo, ScaleTo)))\n",
    "    j += 1\n",
    "\n",
    "testImg = np.asarray(testImg)  # Train images set\n",
    "\n",
    "for i in range(8):\n",
    "    plt.subplot(2, 4, i + 1)\n",
    "    plt.imshow(testImg[i])"
   ]
  },
  {
   "cell_type": "code",
   "execution_count": null,
   "metadata": {
    "_cell_guid": "0ab0df7d-3775-4ea5-945a-f6a6b2c488b3",
    "_uuid": "533e370a65ec08291b1b476b9de9d063adb442e5",
    "colab": {
     "autoexec": {
      "startup": false,
      "wait_interval": 0
     }
    },
    "colab_type": "code",
    "id": "p_gDyP28YzTP"
   },
   "outputs": [],
   "source": [
    "clearTestImg = []\n",
    "examples = []; getEx = True\n",
    "for img in testImg:\n",
    "    # Use gaussian blur\n",
    "    blurImg = cv2.GaussianBlur(img, (5, 5), 0)   \n",
    "    \n",
    "    # Convert to HSV image\n",
    "    hsvImg = cv2.cvtColor(blurImg, cv2.COLOR_BGR2HSV)  \n",
    "    \n",
    "    # Create mask (parameters - green color range)\n",
    "    lower_green = (25, 40, 50)\n",
    "    upper_green = (75, 255, 255)\n",
    "    mask = cv2.inRange(hsvImg, lower_green, upper_green)  \n",
    "    kernel = cv2.getStructuringElement(cv2.MORPH_ELLIPSE, (11, 11))\n",
    "    mask = cv2.morphologyEx(mask, cv2.MORPH_CLOSE, kernel)\n",
    "    \n",
    "    # Create bool mask\n",
    "    bMask = mask > 0  \n",
    "    \n",
    "    # Apply the mask\n",
    "    clear = np.zeros_like(img, np.uint8)  # Create empty image\n",
    "    clear[bMask] = img[bMask]  # Apply boolean mask to the origin image\n",
    "    \n",
    "    clearTestImg.append(clear)  # Append image without backgroung\n",
    "    \n",
    "    # Show examples\n",
    "    if getEx:\n",
    "        plt.subplot(2, 3, 1); plt.imshow(img)  # Show the original image\n",
    "        plt.subplot(2, 3, 2); plt.imshow(blurImg)  # Blur image\n",
    "        plt.subplot(2, 3, 3); plt.imshow(hsvImg)  # HSV image\n",
    "        plt.subplot(2, 3, 4); plt.imshow(mask)  # Mask\n",
    "        plt.subplot(2, 3, 5); plt.imshow(bMask)  # Boolean mask\n",
    "        plt.subplot(2, 3, 6); plt.imshow(clear)  # Image without background\n",
    "        getEx = False\n",
    "\n",
    "clearTestImg = np.asarray(clearTestImg)"
   ]
  },
  {
   "cell_type": "code",
   "execution_count": null,
   "metadata": {
    "_cell_guid": "57a4f87d-c01a-4361-97b1-e304d12011fa",
    "_uuid": "1696af0fda008ff58ecffc5aacedd01ec63fa8c4"
   },
   "outputs": [],
   "source": [
    "# Show sample result\n",
    "for i in range(8):\n",
    "    plt.subplot(2, 4, i + 1)\n",
    "    plt.imshow(clearTestImg[i])"
   ]
  },
  {
   "cell_type": "code",
   "execution_count": null,
   "metadata": {
    "_cell_guid": "e70bc2aa-ed88-4979-8b25-eb10d11da478",
    "_uuid": "2abe8c490cdbae62889499b515141127f191499c"
   },
   "outputs": [],
   "source": [
    "clearTestImg = clearTestImg / 255"
   ]
  },
  {
   "cell_type": "code",
   "execution_count": null,
   "metadata": {
    "_cell_guid": "afc1253d-fca1-42da-ac34-d416ed7d416b",
    "_uuid": "059698296ec62ee33519102206f6c19ddad48b6c"
   },
   "outputs": [],
   "source": [
    "pred = model.predict(clearTestImg)"
   ]
  },
  {
   "cell_type": "code",
   "execution_count": null,
   "metadata": {
    "_cell_guid": "72ba3a09-643e-4eb5-ac1a-8b388c53e10e",
    "_uuid": "c352558464a0f6aade5852d5e6fe3479b14425fc"
   },
   "outputs": [],
   "source": [
    "# Write result to file\n",
    "predNum = np.argmax(pred, axis=1)\n",
    "predStr = le.classes_[predNum]\n",
    "\n",
    "res = {'file': testId, 'species': predStr}\n",
    "res = pd.DataFrame(res)\n",
    "res.to_csv(\"res.csv\", index=False)"
   ]
  }
 ],
 "metadata": {
  "accelerator": "GPU",
  "colab": {
   "collapsed_sections": [],
   "default_view": {},
   "name": "pred.ipynb",
   "provenance": [],
   "version": "0.3.2",
   "views": {}
  },
  "kernelspec": {
   "display_name": "Python 3",
   "language": "python",
   "name": "python3"
  },
  "language_info": {
   "codemirror_mode": {
    "name": "ipython",
    "version": 3
   },
   "file_extension": ".py",
   "mimetype": "text/x-python",
   "name": "python",
   "nbconvert_exporter": "python",
   "pygments_lexer": "ipython3",
   "version": "3.7.6"
  }
 },
 "nbformat": 4,
 "nbformat_minor": 1
}
